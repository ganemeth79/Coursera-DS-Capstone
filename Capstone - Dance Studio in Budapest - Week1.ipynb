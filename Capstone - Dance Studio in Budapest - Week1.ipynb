{
 "cells": [
  {
   "cell_type": "markdown",
   "metadata": {
    "collapsed": true
   },
   "source": [
    "# Capstone Project - Dance Studio in Budapest"
   ]
  },
  {
   "cell_type": "markdown",
   "metadata": {},
   "source": [
    "## Table of contents\n",
    "\n",
    "Week 1\n",
    "\n",
    "* [Business Problem and Background](#introduction)\n",
    "* [Data](#data)\n"
   ]
  },
  {
   "cell_type": "markdown",
   "metadata": {},
   "source": [
    "\n",
    "\n",
    "## Business Problem and Background <a name=\"introduction\"></a>"
   ]
  },
  {
   "cell_type": "markdown",
   "metadata": {},
   "source": [
    "**Goal:** This project intends to **identify the optimal place for a dance studio in Budapest**. The topic \"dance\" comes from my brother being a dance teacher, who used to be on the hunt for a place to open his own studio some years back. At that time I was not even close to data science, but moving the situation to present days in theory, I wonder if/how I and data could help him make the close to best decision. \n",
    "\n",
    "**Target audience:** So **my stakeholder is my onetime brother**, but the results of my analysis could be interesting to anyone having similar plans (to open a dance studio) in the capital of Hungary nowadays. Well, after the current COVID situation is over, as dancing is a very contact-intensive hobby. \n",
    "\n",
    "According to my brother's information, the competition has always been \"strong\" in the dancing business. He claims there were and still are many such studios in Budapest compared to the size of the city (population). I am going to try and check if data confirms his statement, and **will be searching for areas that have no or just a few dance studios nearby, but which are easily accessible for a number of people without the usage of cars**, as parking is almost impossible in Budapest.\n",
    "\n",
    "Finding the best spot is not in my intention, as I understand there are many other factors to be taken into account, some of them being less data driven, but **I will attempt to locate the top 3 neighborhoods** to help narrow down the list of potential areas to consider for a new dance studio. "
   ]
  },
  {
   "cell_type": "markdown",
   "metadata": {},
   "source": [
    "## Data <a name=\"data\"></a>"
   ]
  },
  {
   "cell_type": "markdown",
   "metadata": {},
   "source": [
    "As per the problem setting above, I will focus on the below aspects: \n",
    "\n",
    "What **data** would be **useful/needed**?   \n",
    "1. The **number and location** of existing dance studios in Budapest as of today.   \n",
    "2. The **distance** of the studios from the centre of the city.  \n",
    "3. The average **ratings** the studios received from the users.  \n",
    "4. **Crime data** of the neighborhoods/districts.  \n",
    "5. **Entry fees or hourly rates** of the studios.           \n",
    "       \n",
    "       \n",
    "What data are **available**?   \n",
    "1. With a bit of probing I found that the Foursquare page has various but limited information about the places, like \n",
    "\n",
    "**location (address, geo coordinates, latitude and longitude),  \n",
    "tips,   \n",
    "reviews,  \n",
    "and ratings**. \n",
    "\n",
    "\n",
    "Useful for my purpose from these are the **geo ones** and the **tips, ratings** so I will concentrate on retrieving those primarily, via the **Foursquare API**. The neighborhoods will be the districts in Budapest, with focus on the inner ones.   \n",
    "2. Understanding the **crime heatmap** about the districts would be an asset to find a rather secure location. There can be venues, like night clubs that may to a certain degree magnetize crime to a specific area. Though the open hours of the dance studios (mainly evenings) and that of the night clubs (late night) have no intersection, this would be worth looking into. Unfortunately though, I did not find any available dataset about the criminal records nor on Foursquare neither on any other website, so I put this view aside for the current analysis. \n",
    "3. As for the **prices**, I have no information about the fees and rates for those studios the Foursquare site lists. Hence, I postpone this aspect too for a later study.  \n",
    "\n",
    "So as above mentioned, the **source** of the data to be used will be **Foursquare**. I will first capture the coordinates of Budapest, then **pull** the list of venues in the city, **transform** the json file into a dataframe and **clean** it for the purpose (filter on the dance studios, let go of the unnecessary columns, calculate distance from city centre, iteratively specify a reasonable target distance, etc.) I would be applying the **clustering method**, so I would concentrate on the pre-processing (like normalization) in that direction. \n",
    "\n",
    "Then I will **visualize the clusters with the folium map** to have a deeper understanding and insights about the distribution/spread of the studios and the potentially find further aspects to investigate. "
   ]
  }
 ],
 "metadata": {
  "kernelspec": {
   "display_name": "Python 3",
   "language": "python",
   "name": "python3"
  },
  "language_info": {
   "codemirror_mode": {
    "name": "ipython",
    "version": 3
   },
   "file_extension": ".py",
   "mimetype": "text/x-python",
   "name": "python",
   "nbconvert_exporter": "python",
   "pygments_lexer": "ipython3",
   "version": "3.7.4"
  }
 },
 "nbformat": 4,
 "nbformat_minor": 1
}
